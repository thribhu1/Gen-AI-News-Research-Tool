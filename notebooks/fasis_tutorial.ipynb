{
 "cells": [
  {
   "cell_type": "code",
   "execution_count": 1,
   "id": "7a10f5fb",
   "metadata": {},
   "outputs": [
    {
     "name": "stdout",
     "output_type": "stream",
     "text": [
      "Requirement already satisfied: faiss-cpu in c:\\users\\15135\\.pyenv\\pyenv-win\\versions\\3.10.1\\lib\\site-packages (1.7.4)\n"
     ]
    },
    {
     "name": "stderr",
     "output_type": "stream",
     "text": [
      "\n",
      "[notice] A new release of pip is available: 23.3.1 -> 24.0\n",
      "[notice] To update, run: python3.exe -m pip install --upgrade pip\n"
     ]
    },
    {
     "name": "stdout",
     "output_type": "stream",
     "text": [
      "Requirement already satisfied: sentence-transformers in c:\\users\\15135\\.pyenv\\pyenv-win\\versions\\3.10.1\\lib\\site-packages (2.2.2)\n",
      "Requirement already satisfied: transformers<5.0.0,>=4.6.0 in c:\\users\\15135\\.pyenv\\pyenv-win\\versions\\3.10.1\\lib\\site-packages (from sentence-transformers) (4.37.2)\n",
      "Requirement already satisfied: tqdm in c:\\users\\15135\\.pyenv\\pyenv-win\\versions\\3.10.1\\lib\\site-packages (from sentence-transformers) (4.65.0)\n",
      "Requirement already satisfied: torch>=1.6.0 in c:\\users\\15135\\.pyenv\\pyenv-win\\versions\\3.10.1\\lib\\site-packages (from sentence-transformers) (2.1.0+cu121)\n",
      "Requirement already satisfied: torchvision in c:\\users\\15135\\.pyenv\\pyenv-win\\versions\\3.10.1\\lib\\site-packages (from sentence-transformers) (0.16.0)\n",
      "Requirement already satisfied: numpy in c:\\users\\15135\\.pyenv\\pyenv-win\\versions\\3.10.1\\lib\\site-packages (from sentence-transformers) (1.26.1)\n",
      "Requirement already satisfied: scikit-learn in c:\\users\\15135\\.pyenv\\pyenv-win\\versions\\3.10.1\\lib\\site-packages (from sentence-transformers) (1.2.2)\n",
      "Requirement already satisfied: scipy in c:\\users\\15135\\.pyenv\\pyenv-win\\versions\\3.10.1\\lib\\site-packages (from sentence-transformers) (1.11.2)\n",
      "Requirement already satisfied: nltk in c:\\users\\15135\\.pyenv\\pyenv-win\\versions\\3.10.1\\lib\\site-packages (from sentence-transformers) (3.8.1)\n",
      "Requirement already satisfied: sentencepiece in c:\\users\\15135\\.pyenv\\pyenv-win\\versions\\3.10.1\\lib\\site-packages (from sentence-transformers) (0.1.99)\n",
      "Requirement already satisfied: huggingface-hub>=0.4.0 in c:\\users\\15135\\.pyenv\\pyenv-win\\versions\\3.10.1\\lib\\site-packages (from sentence-transformers) (0.20.3)\n",
      "Requirement already satisfied: filelock in c:\\users\\15135\\.pyenv\\pyenv-win\\versions\\3.10.1\\lib\\site-packages (from huggingface-hub>=0.4.0->sentence-transformers) (3.12.4)\n",
      "Requirement already satisfied: fsspec>=2023.5.0 in c:\\users\\15135\\.pyenv\\pyenv-win\\versions\\3.10.1\\lib\\site-packages (from huggingface-hub>=0.4.0->sentence-transformers) (2023.9.1)\n",
      "Requirement already satisfied: requests in c:\\users\\15135\\.pyenv\\pyenv-win\\versions\\3.10.1\\lib\\site-packages (from huggingface-hub>=0.4.0->sentence-transformers) (2.31.0)\n",
      "Requirement already satisfied: pyyaml>=5.1 in c:\\users\\15135\\.pyenv\\pyenv-win\\versions\\3.10.1\\lib\\site-packages (from huggingface-hub>=0.4.0->sentence-transformers) (5.3.1)\n",
      "Requirement already satisfied: typing-extensions>=3.7.4.3 in c:\\users\\15135\\.pyenv\\pyenv-win\\versions\\3.10.1\\lib\\site-packages (from huggingface-hub>=0.4.0->sentence-transformers) (4.8.0)\n",
      "Requirement already satisfied: packaging>=20.9 in c:\\users\\15135\\.pyenv\\pyenv-win\\versions\\3.10.1\\lib\\site-packages (from huggingface-hub>=0.4.0->sentence-transformers) (23.1)\n",
      "Requirement already satisfied: sympy in c:\\users\\15135\\.pyenv\\pyenv-win\\versions\\3.10.1\\lib\\site-packages (from torch>=1.6.0->sentence-transformers) (1.12)\n",
      "Requirement already satisfied: networkx in c:\\users\\15135\\.pyenv\\pyenv-win\\versions\\3.10.1\\lib\\site-packages (from torch>=1.6.0->sentence-transformers) (3.1)\n",
      "Requirement already satisfied: jinja2 in c:\\users\\15135\\.pyenv\\pyenv-win\\versions\\3.10.1\\lib\\site-packages (from torch>=1.6.0->sentence-transformers) (3.1.2)\n",
      "Requirement already satisfied: colorama in c:\\users\\15135\\.pyenv\\pyenv-win\\versions\\3.10.1\\lib\\site-packages (from tqdm->sentence-transformers) (0.4.6)\n",
      "Requirement already satisfied: regex!=2019.12.17 in c:\\users\\15135\\.pyenv\\pyenv-win\\versions\\3.10.1\\lib\\site-packages (from transformers<5.0.0,>=4.6.0->sentence-transformers) (2023.8.8)\n",
      "Requirement already satisfied: tokenizers<0.19,>=0.14 in c:\\users\\15135\\.pyenv\\pyenv-win\\versions\\3.10.1\\lib\\site-packages (from transformers<5.0.0,>=4.6.0->sentence-transformers) (0.15.1)\n",
      "Requirement already satisfied: safetensors>=0.4.1 in c:\\users\\15135\\.pyenv\\pyenv-win\\versions\\3.10.1\\lib\\site-packages (from transformers<5.0.0,>=4.6.0->sentence-transformers) (0.4.2)\n",
      "Requirement already satisfied: click in c:\\users\\15135\\.pyenv\\pyenv-win\\versions\\3.10.1\\lib\\site-packages (from nltk->sentence-transformers) (8.1.7)\n",
      "Requirement already satisfied: joblib in c:\\users\\15135\\.pyenv\\pyenv-win\\versions\\3.10.1\\lib\\site-packages (from nltk->sentence-transformers) (1.3.2)\n",
      "Requirement already satisfied: threadpoolctl>=2.0.0 in c:\\users\\15135\\.pyenv\\pyenv-win\\versions\\3.10.1\\lib\\site-packages (from scikit-learn->sentence-transformers) (3.2.0)\n",
      "Requirement already satisfied: pillow!=8.3.*,>=5.3.0 in c:\\users\\15135\\.pyenv\\pyenv-win\\versions\\3.10.1\\lib\\site-packages (from torchvision->sentence-transformers) (10.0.1)\n",
      "Requirement already satisfied: MarkupSafe>=2.0 in c:\\users\\15135\\.pyenv\\pyenv-win\\versions\\3.10.1\\lib\\site-packages (from jinja2->torch>=1.6.0->sentence-transformers) (2.1.3)\n",
      "Requirement already satisfied: charset-normalizer<4,>=2 in c:\\users\\15135\\.pyenv\\pyenv-win\\versions\\3.10.1\\lib\\site-packages (from requests->huggingface-hub>=0.4.0->sentence-transformers) (3.2.0)\n",
      "Requirement already satisfied: idna<4,>=2.5 in c:\\users\\15135\\.pyenv\\pyenv-win\\versions\\3.10.1\\lib\\site-packages (from requests->huggingface-hub>=0.4.0->sentence-transformers) (3.4)\n",
      "Requirement already satisfied: urllib3<3,>=1.21.1 in c:\\users\\15135\\.pyenv\\pyenv-win\\versions\\3.10.1\\lib\\site-packages (from requests->huggingface-hub>=0.4.0->sentence-transformers) (1.26.16)\n",
      "Requirement already satisfied: certifi>=2017.4.17 in c:\\users\\15135\\.pyenv\\pyenv-win\\versions\\3.10.1\\lib\\site-packages (from requests->huggingface-hub>=0.4.0->sentence-transformers) (2023.7.22)\n",
      "Requirement already satisfied: mpmath>=0.19 in c:\\users\\15135\\.pyenv\\pyenv-win\\versions\\3.10.1\\lib\\site-packages (from sympy->torch>=1.6.0->sentence-transformers) (1.3.0)\n"
     ]
    },
    {
     "name": "stderr",
     "output_type": "stream",
     "text": [
      "\n",
      "[notice] A new release of pip is available: 23.3.1 -> 24.0\n",
      "[notice] To update, run: python3.exe -m pip install --upgrade pip\n"
     ]
    }
   ],
   "source": [
    "!pip install faiss-cpu\n",
    "!pip install sentence-transformers"
   ]
  },
  {
   "cell_type": "code",
   "execution_count": 7,
   "id": "7e5d97fd",
   "metadata": {},
   "outputs": [
    {
     "name": "stderr",
     "output_type": "stream",
     "text": [
      "\n",
      "[notice] A new release of pip is available: 23.3.1 -> 24.0\n",
      "[notice] To update, run: python3.exe -m pip install --upgrade pip\n"
     ]
    },
    {
     "name": "stdout",
     "output_type": "stream",
     "text": [
      "Requirement already satisfied: pandas in c:\\users\\15135\\.pyenv\\pyenv-win\\versions\\3.10.1\\lib\\site-packages (1.3.5)\n",
      "Requirement already satisfied: python-dateutil>=2.7.3 in c:\\users\\15135\\.pyenv\\pyenv-win\\versions\\3.10.1\\lib\\site-packages (from pandas) (2.8.2)\n",
      "Requirement already satisfied: pytz>=2017.3 in c:\\users\\15135\\.pyenv\\pyenv-win\\versions\\3.10.1\\lib\\site-packages (from pandas) (2023.3.post1)\n",
      "Requirement already satisfied: numpy>=1.21.0 in c:\\users\\15135\\.pyenv\\pyenv-win\\versions\\3.10.1\\lib\\site-packages (from pandas) (1.26.1)\n",
      "Requirement already satisfied: six>=1.5 in c:\\users\\15135\\.pyenv\\pyenv-win\\versions\\3.10.1\\lib\\site-packages (from python-dateutil>=2.7.3->pandas) (1.16.0)\n"
     ]
    },
    {
     "data": {
      "text/plain": [
       "(8, 2)"
      ]
     },
     "execution_count": 7,
     "metadata": {},
     "output_type": "execute_result"
    }
   ],
   "source": [
    "!pip install pandas\n",
    "import pandas as pd\n",
    "df = pd.read_csv(\"sample_text.csv\")\n",
    "df.shape"
   ]
  },
  {
   "cell_type": "code",
   "execution_count": null,
   "id": "f9ece174",
   "metadata": {},
   "outputs": [],
   "source": []
  }
 ],
 "metadata": {
  "kernelspec": {
   "display_name": "Python 3 (ipykernel)",
   "language": "python",
   "name": "python3"
  },
  "language_info": {
   "codemirror_mode": {
    "name": "ipython",
    "version": 3
   },
   "file_extension": ".py",
   "mimetype": "text/x-python",
   "name": "python",
   "nbconvert_exporter": "python",
   "pygments_lexer": "ipython3",
   "version": "3.10.1"
  }
 },
 "nbformat": 4,
 "nbformat_minor": 5
}
